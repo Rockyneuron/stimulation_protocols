    """Scripts to perform image processing in used objects for experiments
    """

